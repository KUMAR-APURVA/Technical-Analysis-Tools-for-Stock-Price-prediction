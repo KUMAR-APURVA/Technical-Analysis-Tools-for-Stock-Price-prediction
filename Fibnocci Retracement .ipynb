{
 "cells": [
  {
   "cell_type": "markdown",
   "metadata": {},
   "source": [
    "### Submitted by Kumar Apurva 2K18/MC/058 and Madhuresh Mayank 2K18/MC/062"
   ]
  },
  {
   "cell_type": "markdown",
   "metadata": {},
   "source": [
    "# FIBONACCI RETRACEMENT"
   ]
  },
  {
   "cell_type": "code",
   "execution_count": 1,
   "metadata": {},
   "outputs": [],
   "source": [
    "import pandas as pd\n",
    "import numpy as np\n",
    "import seaborn as sns\n",
    "import matplotlib\n",
    "matplotlib.use('TkAgg')\n",
    "import matplotlib.pyplot as plt"
   ]
  },
  {
   "cell_type": "markdown",
   "metadata": {},
   "source": [
    "## Data Reading From File"
   ]
  },
  {
   "cell_type": "code",
   "execution_count": 2,
   "metadata": {},
   "outputs": [
    {
     "data": {
      "text/html": [
       "<div>\n",
       "<style scoped>\n",
       "    .dataframe tbody tr th:only-of-type {\n",
       "        vertical-align: middle;\n",
       "    }\n",
       "\n",
       "    .dataframe tbody tr th {\n",
       "        vertical-align: top;\n",
       "    }\n",
       "\n",
       "    .dataframe thead th {\n",
       "        text-align: right;\n",
       "    }\n",
       "</style>\n",
       "<table border=\"1\" class=\"dataframe\">\n",
       "  <thead>\n",
       "    <tr style=\"text-align: right;\">\n",
       "      <th></th>\n",
       "      <th>Date</th>\n",
       "      <th>Time</th>\n",
       "      <th>Open</th>\n",
       "      <th>High</th>\n",
       "      <th>Low</th>\n",
       "      <th>Close</th>\n",
       "      <th>Vol</th>\n",
       "      <th>OI</th>\n",
       "      <th>FastAvg</th>\n",
       "      <th>SlowAvg</th>\n",
       "      <th>SlowK</th>\n",
       "      <th>SlowD</th>\n",
       "      <th>OverBot</th>\n",
       "      <th>OverSld</th>\n",
       "    </tr>\n",
       "    <tr>\n",
       "      <th>Date</th>\n",
       "      <th></th>\n",
       "      <th></th>\n",
       "      <th></th>\n",
       "      <th></th>\n",
       "      <th></th>\n",
       "      <th></th>\n",
       "      <th></th>\n",
       "      <th></th>\n",
       "      <th></th>\n",
       "      <th></th>\n",
       "      <th></th>\n",
       "      <th></th>\n",
       "      <th></th>\n",
       "      <th></th>\n",
       "    </tr>\n",
       "  </thead>\n",
       "  <tbody>\n",
       "    <tr>\n",
       "      <td>10/31/2016</td>\n",
       "      <td>10/31/2016</td>\n",
       "      <td>22:00</td>\n",
       "      <td>113.65</td>\n",
       "      <td>114.23</td>\n",
       "      <td>113.20</td>\n",
       "      <td>113.54</td>\n",
       "      <td>26419398</td>\n",
       "      <td>0</td>\n",
       "      <td>0.00</td>\n",
       "      <td>0.00</td>\n",
       "      <td>0.00</td>\n",
       "      <td>0.00</td>\n",
       "      <td>0.0</td>\n",
       "      <td>0.0</td>\n",
       "    </tr>\n",
       "    <tr>\n",
       "      <td>11/01/2016</td>\n",
       "      <td>11/01/2016</td>\n",
       "      <td>22:00</td>\n",
       "      <td>113.46</td>\n",
       "      <td>113.77</td>\n",
       "      <td>110.53</td>\n",
       "      <td>111.49</td>\n",
       "      <td>43825812</td>\n",
       "      <td>0</td>\n",
       "      <td>0.00</td>\n",
       "      <td>0.00</td>\n",
       "      <td>0.00</td>\n",
       "      <td>0.00</td>\n",
       "      <td>0.0</td>\n",
       "      <td>0.0</td>\n",
       "    </tr>\n",
       "    <tr>\n",
       "      <td>11/02/2016</td>\n",
       "      <td>11/02/2016</td>\n",
       "      <td>22:00</td>\n",
       "      <td>111.40</td>\n",
       "      <td>112.35</td>\n",
       "      <td>111.23</td>\n",
       "      <td>111.59</td>\n",
       "      <td>28331709</td>\n",
       "      <td>0</td>\n",
       "      <td>0.00</td>\n",
       "      <td>0.00</td>\n",
       "      <td>0.00</td>\n",
       "      <td>0.00</td>\n",
       "      <td>0.0</td>\n",
       "      <td>0.0</td>\n",
       "    </tr>\n",
       "    <tr>\n",
       "      <td>11/03/2016</td>\n",
       "      <td>11/03/2016</td>\n",
       "      <td>22:00</td>\n",
       "      <td>110.98</td>\n",
       "      <td>111.46</td>\n",
       "      <td>109.55</td>\n",
       "      <td>109.83</td>\n",
       "      <td>26932602</td>\n",
       "      <td>0</td>\n",
       "      <td>0.00</td>\n",
       "      <td>0.00</td>\n",
       "      <td>0.00</td>\n",
       "      <td>0.00</td>\n",
       "      <td>0.0</td>\n",
       "      <td>0.0</td>\n",
       "    </tr>\n",
       "    <tr>\n",
       "      <td>11/04/2016</td>\n",
       "      <td>11/04/2016</td>\n",
       "      <td>22:00</td>\n",
       "      <td>108.53</td>\n",
       "      <td>110.25</td>\n",
       "      <td>108.11</td>\n",
       "      <td>108.84</td>\n",
       "      <td>30836997</td>\n",
       "      <td>0</td>\n",
       "      <td>0.00</td>\n",
       "      <td>0.00</td>\n",
       "      <td>0.00</td>\n",
       "      <td>0.00</td>\n",
       "      <td>0.0</td>\n",
       "      <td>0.0</td>\n",
       "    </tr>\n",
       "    <tr>\n",
       "      <td>...</td>\n",
       "      <td>...</td>\n",
       "      <td>...</td>\n",
       "      <td>...</td>\n",
       "      <td>...</td>\n",
       "      <td>...</td>\n",
       "      <td>...</td>\n",
       "      <td>...</td>\n",
       "      <td>...</td>\n",
       "      <td>...</td>\n",
       "      <td>...</td>\n",
       "      <td>...</td>\n",
       "      <td>...</td>\n",
       "      <td>...</td>\n",
       "      <td>...</td>\n",
       "    </tr>\n",
       "    <tr>\n",
       "      <td>10/24/2018</td>\n",
       "      <td>10/24/2018</td>\n",
       "      <td>22:00</td>\n",
       "      <td>222.60</td>\n",
       "      <td>224.23</td>\n",
       "      <td>214.54</td>\n",
       "      <td>215.09</td>\n",
       "      <td>40925163</td>\n",
       "      <td>0</td>\n",
       "      <td>218.76</td>\n",
       "      <td>222.48</td>\n",
       "      <td>37.56</td>\n",
       "      <td>36.27</td>\n",
       "      <td>80.0</td>\n",
       "      <td>20.0</td>\n",
       "    </tr>\n",
       "    <tr>\n",
       "      <td>10/25/2018</td>\n",
       "      <td>10/25/2018</td>\n",
       "      <td>22:00</td>\n",
       "      <td>217.71</td>\n",
       "      <td>221.38</td>\n",
       "      <td>216.75</td>\n",
       "      <td>219.80</td>\n",
       "      <td>29855768</td>\n",
       "      <td>0</td>\n",
       "      <td>219.52</td>\n",
       "      <td>222.22</td>\n",
       "      <td>40.45</td>\n",
       "      <td>39.76</td>\n",
       "      <td>80.0</td>\n",
       "      <td>20.0</td>\n",
       "    </tr>\n",
       "    <tr>\n",
       "      <td>10/26/2018</td>\n",
       "      <td>10/26/2018</td>\n",
       "      <td>22:00</td>\n",
       "      <td>215.90</td>\n",
       "      <td>220.19</td>\n",
       "      <td>212.67</td>\n",
       "      <td>216.30</td>\n",
       "      <td>47258375</td>\n",
       "      <td>0</td>\n",
       "      <td>218.91</td>\n",
       "      <td>221.75</td>\n",
       "      <td>30.94</td>\n",
       "      <td>36.32</td>\n",
       "      <td>80.0</td>\n",
       "      <td>20.0</td>\n",
       "    </tr>\n",
       "    <tr>\n",
       "      <td>10/29/2018</td>\n",
       "      <td>10/29/2018</td>\n",
       "      <td>22:00</td>\n",
       "      <td>219.19</td>\n",
       "      <td>219.69</td>\n",
       "      <td>206.09</td>\n",
       "      <td>212.24</td>\n",
       "      <td>45935520</td>\n",
       "      <td>0</td>\n",
       "      <td>217.23</td>\n",
       "      <td>221.00</td>\n",
       "      <td>35.11</td>\n",
       "      <td>35.50</td>\n",
       "      <td>80.0</td>\n",
       "      <td>20.0</td>\n",
       "    </tr>\n",
       "    <tr>\n",
       "      <td>10/30/2018</td>\n",
       "      <td>10/30/2018</td>\n",
       "      <td>22:00</td>\n",
       "      <td>211.15</td>\n",
       "      <td>215.18</td>\n",
       "      <td>209.27</td>\n",
       "      <td>213.30</td>\n",
       "      <td>36659990</td>\n",
       "      <td>0</td>\n",
       "      <td>215.35</td>\n",
       "      <td>220.20</td>\n",
       "      <td>32.50</td>\n",
       "      <td>32.85</td>\n",
       "      <td>80.0</td>\n",
       "      <td>20.0</td>\n",
       "    </tr>\n",
       "  </tbody>\n",
       "</table>\n",
       "<p>504 rows × 14 columns</p>\n",
       "</div>"
      ],
      "text/plain": [
       "                  Date   Time    Open    High     Low   Close       Vol  OI  \\\n",
       "Date                                                                          \n",
       "10/31/2016  10/31/2016  22:00  113.65  114.23  113.20  113.54  26419398   0   \n",
       "11/01/2016  11/01/2016  22:00  113.46  113.77  110.53  111.49  43825812   0   \n",
       "11/02/2016  11/02/2016  22:00  111.40  112.35  111.23  111.59  28331709   0   \n",
       "11/03/2016  11/03/2016  22:00  110.98  111.46  109.55  109.83  26932602   0   \n",
       "11/04/2016  11/04/2016  22:00  108.53  110.25  108.11  108.84  30836997   0   \n",
       "...                ...    ...     ...     ...     ...     ...       ...  ..   \n",
       "10/24/2018  10/24/2018  22:00  222.60  224.23  214.54  215.09  40925163   0   \n",
       "10/25/2018  10/25/2018  22:00  217.71  221.38  216.75  219.80  29855768   0   \n",
       "10/26/2018  10/26/2018  22:00  215.90  220.19  212.67  216.30  47258375   0   \n",
       "10/29/2018  10/29/2018  22:00  219.19  219.69  206.09  212.24  45935520   0   \n",
       "10/30/2018  10/30/2018  22:00  211.15  215.18  209.27  213.30  36659990   0   \n",
       "\n",
       "            FastAvg  SlowAvg  SlowK  SlowD  OverBot  OverSld  \n",
       "Date                                                          \n",
       "10/31/2016     0.00     0.00   0.00   0.00      0.0      0.0  \n",
       "11/01/2016     0.00     0.00   0.00   0.00      0.0      0.0  \n",
       "11/02/2016     0.00     0.00   0.00   0.00      0.0      0.0  \n",
       "11/03/2016     0.00     0.00   0.00   0.00      0.0      0.0  \n",
       "11/04/2016     0.00     0.00   0.00   0.00      0.0      0.0  \n",
       "...             ...      ...    ...    ...      ...      ...  \n",
       "10/24/2018   218.76   222.48  37.56  36.27     80.0     20.0  \n",
       "10/25/2018   219.52   222.22  40.45  39.76     80.0     20.0  \n",
       "10/26/2018   218.91   221.75  30.94  36.32     80.0     20.0  \n",
       "10/29/2018   217.23   221.00  35.11  35.50     80.0     20.0  \n",
       "10/30/2018   215.35   220.20  32.50  32.85     80.0     20.0  \n",
       "\n",
       "[504 rows x 14 columns]"
      ]
     },
     "execution_count": 2,
     "metadata": {},
     "output_type": "execute_result"
    }
   ],
   "source": [
    "df = pd.read_csv(\"apple.csv\")\n",
    "df = df.set_index('Date',drop = False)\n",
    "df"
   ]
  },
  {
   "cell_type": "code",
   "execution_count": 3,
   "metadata": {},
   "outputs": [
    {
     "data": {
      "text/plain": [
       "Date        object\n",
       "Time        object\n",
       "Open       float64\n",
       "High       float64\n",
       "Low        float64\n",
       "Close      float64\n",
       "Vol          int64\n",
       "OI           int64\n",
       "FastAvg    float64\n",
       "SlowAvg    float64\n",
       "SlowK      float64\n",
       "SlowD      float64\n",
       "OverBot    float64\n",
       "OverSld    float64\n",
       "dtype: object"
      ]
     },
     "execution_count": 3,
     "metadata": {},
     "output_type": "execute_result"
    }
   ],
   "source": [
    "df.dtypes"
   ]
  },
  {
   "cell_type": "markdown",
   "metadata": {},
   "source": [
    "## Calculations for Fibonaaci Retracement"
   ]
  },
  {
   "cell_type": "code",
   "execution_count": 4,
   "metadata": {},
   "outputs": [
    {
     "data": {
      "text/plain": [
       "232.07"
      ]
     },
     "execution_count": 4,
     "metadata": {},
     "output_type": "execute_result"
    }
   ],
   "source": [
    "df['Close']['10/31/2016':'10/30/2018'].max()"
   ]
  },
  {
   "cell_type": "code",
   "execution_count": 5,
   "metadata": {},
   "outputs": [
    {
     "data": {
      "text/plain": [
       "105.71"
      ]
     },
     "execution_count": 5,
     "metadata": {},
     "output_type": "execute_result"
    }
   ],
   "source": [
    "df['Close']['10/31/2016':'10/30/2018'].min()"
   ]
  },
  {
   "cell_type": "code",
   "execution_count": 6,
   "metadata": {},
   "outputs": [],
   "source": [
    "df1=df['10/31/2016':'10/30/2018']\n"
   ]
  },
  {
   "cell_type": "code",
   "execution_count": 7,
   "metadata": {},
   "outputs": [
    {
     "data": {
      "text/plain": [
       "104.08"
      ]
     },
     "execution_count": 7,
     "metadata": {},
     "output_type": "execute_result"
    }
   ],
   "source": [
    "Price_Min =df1['Low']['10/31/2016':'10/30/2018'].min()\n",
    "Price_Min"
   ]
  },
  {
   "cell_type": "code",
   "execution_count": 8,
   "metadata": {},
   "outputs": [
    {
     "data": {
      "text/plain": [
       "233.47"
      ]
     },
     "execution_count": 8,
     "metadata": {},
     "output_type": "execute_result"
    }
   ],
   "source": [
    "Price_Max =df1['High']['10/31/2016':'10/30/2018'].max()\n",
    "Price_Max"
   ]
  },
  {
   "cell_type": "code",
   "execution_count": 9,
   "metadata": {},
   "outputs": [],
   "source": [
    "Diff = Price_Max-Price_Min"
   ]
  },
  {
   "cell_type": "code",
   "execution_count": 10,
   "metadata": {},
   "outputs": [],
   "source": [
    "level1 = Price_Max - 0.236 * Diff\n",
    "level2 = Price_Max - 0.382 * Diff\n",
    "level3 = Price_Max - 0.618 * Diff"
   ]
  },
  {
   "cell_type": "code",
   "execution_count": 11,
   "metadata": {},
   "outputs": [
    {
     "name": "stdout",
     "output_type": "stream",
     "text": [
      "Level   PRICE\n",
      "0         233.47\n",
      "0.236     202.93396\n",
      "0.382     184.04302\n",
      "0.618     153.50698\n",
      "1         104.08\n"
     ]
    }
   ],
   "source": [
    "print (\"Level\", \" \", \"PRICE\")\n",
    "\n",
    "print (\"0 \", \"      \" , Price_Max)\n",
    "print (\"0.236\", \"   \" ,level1)\n",
    "print (\"0.382\",  \"   \",level2)\n",
    "print (\"0.618\",\"   \",  level3)\n",
    "print (\"1 \",   \"      \", Price_Min)"
   ]
  },
  {
   "cell_type": "markdown",
   "metadata": {},
   "source": [
    "## Plotting"
   ]
  },
  {
   "cell_type": "code",
   "execution_count": 12,
   "metadata": {},
   "outputs": [
    {
     "data": {
      "image/png": "[encoded data removed]",
      "text/plain": [
       "<Figure size 1440x720 with 1 Axes>"
      ]
     },
     "metadata": {
      "needs_background": "light"
     },
     "output_type": "display_data"
    }
   ],
   "source": [
    "fig, ax = plt.subplots(figsize=(20,10))\n",
    "\n",
    "ax.plot(df1.Date, df1.Close)\n",
    "\n",
    "ax.axhspan(level1, Price_Min, alpha=0.4, color='lightsalmon')\n",
    "ax.axhspan(level2, level1, alpha=0.5, color='palegoldenrod')\n",
    "ax.axhspan(level3, level2, alpha=0.5, color='palegreen')\n",
    "ax.axhspan(Price_Max, level3, alpha=0.5, color='powderblue')\n",
    "\n",
    "plt.ylabel(\"Price\")\n",
    "plt.xlabel(\"Date\")\n",
    "plt.title('Fibonacci Retracement')\n",
    "frame1 = plt.gca() # hide x axis values\n",
    "frame1.axes.xaxis.set_ticklabels([])\n",
    "plt.show()"
   ]
  }
 ],
 "metadata": {
  "kernelspec": {
   "display_name": "Python 3",
   "language": "python",
   "name": "python3"
  },
  "language_info": {
   "codemirror_mode": {
    "name": "ipython",
    "version": 3
   },
   "file_extension": ".py",
   "mimetype": "text/x-python",
   "name": "python",
   "nbconvert_exporter": "python",
   "pygments_lexer": "ipython3",
   "version": "3.7.4"
  }
 },
 "nbformat": 4,
 "nbformat_minor": 2
}
